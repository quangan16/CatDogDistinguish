{
 "cells": [
  {
   "cell_type": "code",
   "execution_count": null,
   "metadata": {},
   "outputs": [],
   "source": [
    "import cv2\n",
    "import numpy as np\n",
    " \n",
    "#video_file = \"video_1.mp4\"\n",
    "video = cv2.VideoCapture(0)\n",
    " \n",
    "while True:\n",
    "    (grabbed, frame) = video.read()\n",
    "    if not grabbed:\n",
    "        break\n",
    " \n",
    "    blur = cv2.GaussianBlur(frame, (21, 21), 0)\n",
    "    hsv = cv2.cvtColor(blur, cv2.COLOR_BGR2HSV)\n",
    " \n",
    "    lower = [18, 50, 50]\n",
    "    upper = [35, 255, 255]\n",
    "    lower = np.array(lower, dtype=\"uint8\")\n",
    "    upper = np.array(upper, dtype=\"uint8\")\n",
    "    mask = cv2.inRange(hsv, lower, upper)\n",
    "    \n",
    " \n",
    " \n",
    "    output = cv2.bitwise_and(frame, hsv, mask=mask)\n",
    "    no_red = cv2.countNonZero(mask)\n",
    "    cv2.imshow(\"output\", output)\n",
    "    #print(\"output:\", frame)\n",
    "    if int(no_red) > 20000:\n",
    "        print ('Fire detected')\n",
    "    #print(int(no_red))\n",
    "   #print(\"output:\".format(mask))\n",
    "    if cv2.waitKey(1) & 0xFF == ord('q'):\n",
    "        break\n",
    " \n",
    "cv2.destroyAllWindows()\n",
    "video.release()"
   ]
  },
  {
   "cell_type": "code",
   "execution_count": null,
   "metadata": {},
   "outputs": [],
   "source": [
    "import PySimpleGUI as sg\n",
    "import os.path\n",
    "\n",
    "# First the window layout in 2 columns\n",
    "\n",
    "file_list_column = [\n",
    "    [\n",
    "        sg.Text(\"Image Folder\"),\n",
    "        sg.In(size=(25, 1), enable_events=True, key=\"-FOLDER-\"),\n",
    "        sg.FolderBrowse(),\n",
    "    ],\n",
    "    [\n",
    "        sg.Listbox(\n",
    "            values=[], enable_events=True, size=(40, 20), key=\"-FILE LIST-\"\n",
    "        )\n",
    "    ],\n",
    "]\n",
    "\n",
    "# For now will only show the name of the file that was chosen\n",
    "image_viewer_column = [\n",
    "    [sg.Text(\"Choose an image from list on left:\")],\n",
    "    [sg.Text(size=(40, 1), key=\"-TOUT-\")],\n",
    "    [sg.Image(key=\"-IMAGE-\")],\n",
    "]\n",
    "\n",
    "# ----- Full layout -----\n",
    "layout = [\n",
    "    [\n",
    "        sg.Column(file_list_column),\n",
    "        sg.VSeperator(),\n",
    "        sg.Column(image_viewer_column),\n",
    "    ]\n",
    "]\n",
    "\n",
    "window = sg.Window(\"Image Viewer\", layout)\n",
    "\n",
    "while True:\n",
    "    event, values = window.read()\n",
    "    if event == \"Exit\" or event == sg.WIN_CLOSED:\n",
    "        break\n",
    "\n",
    "# Folder name was filled in, make a list of files in the folder\n",
    "if event == \"-FOLDER-\":\n",
    "    folder = values[\"-FOLDER-\"]\n",
    "    try:\n",
    "        # Get list of files in folder\n",
    "        file_list = os.listdir(folder)\n",
    "    except:\n",
    "        file_list = []\n",
    "\n",
    "    fnames = [\n",
    "        f\n",
    "        for f in file_list\n",
    "        if os.path.isfile(os.path.join(folder, f))\n",
    "        and f.lower().endswith((\".png\", \".gif\"))\n",
    "    ]\n",
    "\n",
    "elif event == \"-FILE LIST-\":  # A file was chosen from the listbox\n",
    "    try:\n",
    "        filename = os.path.join(\n",
    "            values[\"-FOLDER-\"], values[\"-FILE LIST-\"][0]\n",
    "        )\n",
    "        window[\"-TOUT-\"].update(filename)\n",
    "        window[\"-IMAGE-\"].update(filename=filename)\n",
    "    except:\n",
    "        pass\n",
    "\n",
    "window.close()"
   ]
  },
  {
   "cell_type": "code",
   "execution_count": 1,
   "metadata": {},
   "outputs": [
    {
     "name": "stdout",
     "output_type": "stream",
     "text": [
      "Collecting flask\n",
      "  Downloading Flask-2.2.2-py3-none-any.whl (101 kB)\n",
      "     -------------------------------------- 101.5/101.5 kB 1.2 MB/s eta 0:00:00\n",
      "Collecting itsdangerous>=2.0\n",
      "  Downloading itsdangerous-2.1.2-py3-none-any.whl (15 kB)\n",
      "Collecting Jinja2>=3.0\n",
      "  Using cached Jinja2-3.1.2-py3-none-any.whl (133 kB)\n",
      "Collecting click>=8.0\n",
      "  Downloading click-8.1.3-py3-none-any.whl (96 kB)\n",
      "     ---------------------------------------- 96.6/96.6 kB 5.8 MB/s eta 0:00:00\n",
      "Requirement already satisfied: Werkzeug>=2.2.2 in c:\\users\\nqan1\\appdata\\local\\programs\\python\\python310\\lib\\site-packages (from flask) (2.2.2)\n",
      "Requirement already satisfied: colorama in c:\\users\\nqan1\\appdata\\roaming\\python\\python310\\site-packages (from click>=8.0->flask) (0.4.6)\n",
      "Requirement already satisfied: MarkupSafe>=2.0 in c:\\users\\nqan1\\appdata\\local\\programs\\python\\python310\\lib\\site-packages (from Jinja2>=3.0->flask) (2.1.1)\n",
      "Installing collected packages: Jinja2, itsdangerous, click, flask\n",
      "Successfully installed Jinja2-3.1.2 click-8.1.3 flask-2.2.2 itsdangerous-2.1.2\n",
      "Note: you may need to restart the kernel to use updated packages.\n"
     ]
    },
    {
     "name": "stderr",
     "output_type": "stream",
     "text": [
      "\n",
      "[notice] A new release of pip available: 22.2.2 -> 22.3.1\n",
      "[notice] To update, run: python.exe -m pip install --upgrade pip\n"
     ]
    }
   ],
   "source": [
    "pip install flask"
   ]
  }
 ],
 "metadata": {
  "kernelspec": {
   "display_name": "Python 3.10.8 64-bit",
   "language": "python",
   "name": "python3"
  },
  "language_info": {
   "codemirror_mode": {
    "name": "ipython",
    "version": 3
   },
   "file_extension": ".py",
   "mimetype": "text/x-python",
   "name": "python",
   "nbconvert_exporter": "python",
   "pygments_lexer": "ipython3",
   "version": "3.10.8"
  },
  "orig_nbformat": 4,
  "vscode": {
   "interpreter": {
    "hash": "5acba3d33a1c1b9502ed148b658bbb15bb4421701c6988e1bdc147f9d8f64c2f"
   }
  }
 },
 "nbformat": 4,
 "nbformat_minor": 2
}
